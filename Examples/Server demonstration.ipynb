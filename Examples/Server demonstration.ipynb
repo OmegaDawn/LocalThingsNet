{
 "cells": [
  {
   "attachments": {},
   "cell_type": "markdown",
   "id": "0a99e9aa-445d-4200-9e8d-aaa32296893e",
   "metadata": {},
   "source": [
    "<p style=\"text-align: center\">\n",
    "    <b><span style=\"float: center; font-size: 12pt\">LocalThingsNetwork</span>\n",
    "    <br>\n",
    "    <span style=\"font-size: 40pt\"> Server demonstration </span></b>\n",
    "</p>\n",
    "\n",
    "---\n",
    "\n",
    "This is a demonstration of the `localthingsnet.network.Server` class. The server communicates with multiple clients by exchanging data, evaluating data requests and executing commands. The server can interact with clients through one or multiple sockets if needed. Additionally the server provides extendable routine services for repetitive tasks like data synchronization or ping checking. This demonstration explains the **setup** of a server with its **services**, **servercommands** and **requestables**, how server and clients **interact** with each other and finally in which ways the server can be **modified** for certain needs.\n",
    "\n",
    "---"
   ]
  },
  {
   "cell_type": "code",
   "execution_count": 1,
   "id": "926fd496",
   "metadata": {},
   "outputs": [],
   "source": [
    "import localthingsnet.network as ltn"
   ]
  },
  {
   "cell_type": "code",
   "execution_count": 2,
   "id": "9994f0b0",
   "metadata": {},
   "outputs": [],
   "source": [
    "# Initialise two clients for demonstration purposes\n",
    "# NOTE: The output of the clients are muted to focus on the server\n",
    "client1 = ltn.Client('client_1')\n",
    "client2 = ltn.Client('client_2')\n",
    "\n",
    "def mute(self, *message):\n",
    "    pass\n",
    "client1.printInfo = mute.__get__(client1, ltn.Client)\n",
    "client1.statusInfo = mute.__get__(client1, ltn.Client)\n",
    "client1.warningInfo = mute.__get__(client1, ltn.Client)\n",
    "client1.errorInfo = mute.__get__(client1, ltn.Client)\n",
    "client2.printInfo = mute.__get__(client2, ltn.Client)\n",
    "client2.statusInfo = mute.__get__(client2, ltn.Client)\n",
    "client2.warningInfo = mute.__get__(client2, ltn.Client)\n",
    "client2.errorInfo = mute.__get__(client2, ltn.Client)"
   ]
  },
  {
   "attachments": {},
   "cell_type": "markdown",
   "id": "f84e3d8e",
   "metadata": {},
   "source": [
    "---\n",
    "---\n",
    "\n",
    "# ***Server concept***"
   ]
  },
  {
   "attachments": {},
   "cell_type": "markdown",
   "id": "0e40ef74",
   "metadata": {},
   "source": [
    "Based on the python <a href=\"https://docs.python.org/3/library/socket.html\">socket</a> library the server binds a socket to a free port on the executing machine. This socket is referred to as ***serversock***. It is used to connect and register new clients and processes data, mainly text sent from the user. The server can also own a ***maindatasock*** and other **datasocks**. The maindatasock is used for background data transmissions *(f.e. data synchronization)*. It is not necessarily needed but reduces the workload on the serversock. Other datasocks can be defined if needed and customized for certain purposes *(f.e. receiving images or send-receive in a certain pattern)*. Every datasock has a certain receiving function *(recvFunc)* that handles receiving and processing data. A new client can only connect to the serversock through which connections to other datasocks get established. During registration of a new client the maindatasock will be connected and the client gets a *clientid* through which the client can be addressed."
   ]
  },
  {
   "attachments": {},
   "cell_type": "markdown",
   "id": "04c58575",
   "metadata": {},
   "source": [
    "---\n",
    "\n",
    "# ***Server initialization***"
   ]
  },
  {
   "attachments": {},
   "cell_type": "markdown",
   "id": "34484d07",
   "metadata": {},
   "source": [
    "The initialization of a server requires no arguments, but there are some optional arguments:\n",
    "\n",
    ">***servername***  \n",
    "> * An identifiable name for the server\n",
    "> * (Default is 'server')\n",
    "\n",
    ">***description***  \n",
    "> * Short description about the abilities or purpose\n",
    "> * (Default is 'None')\n",
    "\n",
    ">***adminkey***  \n",
    "> * Password to gain administration permissions\n",
    "> * (Default is '', every client gets admin permissions)\n",
    "\n",
    ">***max_datasize***  \n",
    "> * Maximum bytes that can be exchanged in one transmission\n",
    "> * (Default is 1024)\n",
    "\n",
    ">***preferredport***  \n",
    "> * Preferred port(s) to bind the serversock to\n",
    "> * (Default is '>4000')\n",
    "\n",
    ">***preferreddataport***\n",
    "> * Preferred port(s) to bind the datasock to\n",
    "> * (Default is '<3999')\n",
    "\n",
    ">***logfile***  \n",
    "> * Creates a file that saves occurred events\n",
    "> * (Default is '', No logfile gets created)\n",
    "\n",
    ">***ansi***  \n",
    "> * Allow ANSI text formatting\n",
    "> * (Default is True)\n",
    "\n",
    "<br>\n",
    "\n",
    ">***NOTE:** It is suggested to use port 4000 and above for serversocks and below 4000 for (main-)datasocks.*"
   ]
  },
  {
   "cell_type": "code",
   "execution_count": 3,
   "id": "2f4f8227",
   "metadata": {},
   "outputs": [
    {
     "data": {
      "text/plain": [
       "'7.43.162'"
      ]
     },
     "execution_count": 3,
     "metadata": {},
     "output_type": "execute_result"
    }
   ],
   "source": [
    "server = ltn.Server(\n",
    "    servername='Demoserver',\n",
    "    preferredport='>4000',\n",
    "    preferreddataport='<3999',\n",
    "    max_datasize=1024,\n",
    "    adminkey='DemoKey',\n",
    "    description=\"Demonstrate abilities of the localthingsnet(work) project\",\n",
    "    logfile=\"\",\n",
    "    ansi=True)\n",
    "\n",
    "server.__version__"
   ]
  },
  {
   "attachments": {},
   "cell_type": "markdown",
   "id": "c2758c27",
   "metadata": {},
   "source": [
    "The server can be started with `startServer()`. This will bind the server *(serversock)* to the first available port in the allowed **port** argument. **Port** can be a single port, a selection of ports or an expression for a port and all lower/higher ports *(f.e. '>4000', Port 4000 is inclusive)*. By default **port** will be the *preferredport* set with server initialization. The same applies for **dataport** which contains allowed ports for datasocks. If wanted the *maindatasock* and the *services* routine can be initialized. Both can also be initialized later on. After the startup clients will be able to connect to the server."
   ]
  },
  {
   "cell_type": "code",
   "execution_count": 4,
   "id": "1814cdcd",
   "metadata": {},
   "outputs": [
    {
     "name": "stdout",
     "output_type": "stream",
     "text": [
      "\u001b[38;5;243mServersock bound to 4000\u001b[0m\n",
      "\u001b[38;5;243mServer is running at ('192.168.178.140', 4000)\u001b[0m\n"
     ]
    }
   ],
   "source": [
    "server.startServer(port='>4000', dataport='preferred', maindatasock=False, services=False)"
   ]
  },
  {
   "attachments": {},
   "cell_type": "markdown",
   "id": "89468a43",
   "metadata": {},
   "source": [
    "---\n",
    "\n",
    "# ***Connect clients***"
   ]
  },
  {
   "attachments": {},
   "cell_type": "markdown",
   "id": "9cd458c2",
   "metadata": {},
   "source": [
    "A client that connects to the serversock passes `registrateClient()` which checks compatibility, exchanges metadata, optionally connects the main- and other datasocks and assigns a *clientid* to the connecting client. All connected clients and their data are stored in the `server.conns` dictionary addressable through a clientid. The client also gets a username that is shown whenever a message is sent. The username is also used to address the client in servercommands. The username can be changed, the clientid not. If the clientid is unknown it can be gained with `getIDof()` and a property of the client.\n",
    "\n",
    "Below two clients connect to the server and get registered as *client_1* and *client_2*.<br>\n",
    "*(For more details on how to connect clients refer to the Client demonstration notebook)*"
   ]
  },
  {
   "cell_type": "code",
   "execution_count": 5,
   "id": "22eb5811",
   "metadata": {},
   "outputs": [
    {
     "name": "stdout",
     "output_type": "stream",
     "text": [
      "\u001b[38;5;230m192.168.178.140 is registered as 'client_1'\u001b[0m\n",
      "\u001b[38;5;230m192.168.178.140 is registered as 'client_2'\u001b[0m\n"
     ]
    }
   ],
   "source": [
    "# Connect clients to server\n",
    "info = client1.connect(server.addr)\n",
    "info = client2.connect(server.addr)"
   ]
  },
  {
   "cell_type": "code",
   "execution_count": 6,
   "id": "76577c34",
   "metadata": {},
   "outputs": [],
   "source": [
    "# Get client ids\n",
    "cl1_id = server.getIDof(username='client_1')\n",
    "cl2_id = server.getIDof(username='client_2')"
   ]
  },
  {
   "cell_type": "code",
   "execution_count": 7,
   "id": "e6c28ebc",
   "metadata": {},
   "outputs": [
    {
     "name": "stdout",
     "output_type": "stream",
     "text": [
      "dict_keys(['name', 'socks', 'isserver', 'addr', 'clientdata', 'permissions', 'muted', 'connecttime', 'ping', 'data'])\n",
      "client_1\n"
     ]
    }
   ],
   "source": [
    "print(server.conns[cl1_id].keys())\n",
    "print(server.conns[cl1_id]['name'])"
   ]
  },
  {
   "attachments": {},
   "cell_type": "markdown",
   "id": "9c7be318",
   "metadata": {},
   "source": [
    "During registration of a connection client and server exchange **client-** and **serverdata** with contains attributes that can be of use to the other instance *(like available commands and requestables, description, sockets of the server, etc.)*. If the server *services* routine is enabled these attributes are constantly synchronized, otherwise values may be outdated when accessed and need to updated via requests. "
   ]
  },
  {
   "cell_type": "code",
   "execution_count": 8,
   "id": "93026288",
   "metadata": {},
   "outputs": [
    {
     "name": "stdout",
     "output_type": "stream",
     "text": [
      "Serverdata stored in client:\n",
      " dict_keys(['servername', 'description', 'server_version', 'starttime', 'layer', 'separator', 'max_datasize', 'max_username_length', 'servercommands', 'requestables', 'socks'])\n",
      "Clientdata stored in server:\n",
      " dict_keys(['description', 'client_version', 'commands', 'requestables'])\n"
     ]
    }
   ],
   "source": [
    "print(\"Serverdata stored in client:\\n\", client1.cl_serverdata.keys())\n",
    "print(\"Clientdata stored in server:\\n\", server.conns[cl1_id]['clientdata'].keys())"
   ]
  },
  {
   "attachments": {},
   "cell_type": "markdown",
   "id": "a7704402",
   "metadata": {},
   "source": [
    "---\n",
    "\n",
    "# ***Interact with clients***"
   ]
  },
  {
   "attachments": {},
   "cell_type": "markdown",
   "id": "93c6aeec",
   "metadata": {},
   "source": [
    "The server receives data sent by clients through receiving threads. These threads get started for every client-socket that connects to any sock of the server. The receiving threads loop a *receiving function* ***(recvFunc)*** which receives and processes a single data packet. From there on receiving is done automatically. The *recvFunc* can be set for any datasocket individually when the socket gets initiated. *(More in the datasocks section.)* The default *recvFunc* is `recvClientData()` which processes text, servercommands and requestables. Sending to a client can be done with `sendDataTo()`, `sendMsgTo()`, `sendCommandTo()` and `sendRequestTo()`. These require a clientid or a socket object of the client. Clientids can be gained with `getIDof()` while a client sockets can be gained from `server.conns[*clientid*]['socks'][*port*]`, as shown below. `SendDataTo()` allows to send data to a client, the other functions are just extensions of that. \n",
    "\n",
    "> ***Server.sendDataTo(clientsocket: socket, data: object)***\n",
    "> - Sends a <a href=https://docs.python.org/3/library/pickle.html>picklable</a> python object to a certain client socket.\n",
    "\n",
    "> ***Server.sendMsgTo(clientid: str, message: str)***\n",
    "> - Sends a string message through the serversock that gets displayed in the client console.\n",
    "\n",
    "> ***Server.sendCommandTo(clientsocket: socket, command: str, arguments: list = None)***\n",
    "> - Calls a predefined clientcommand that gets executed on the client machine\n",
    "> - Available clientcommands can be viewed in `server.conns[*id*]['clientdata']`\n",
    "\n",
    ">***Server.sendRequestTo(clientsocket: socket, requested: str, timeout: float = 1.0, get_time: bool = False ) -> object***\n",
    "> - Requests data from the client\n",
    "> - Available requestables can be viewed in `server.conns[*id*]['clientdata']`"
   ]
  },
  {
   "cell_type": "code",
   "execution_count": 9,
   "id": "d3a5d5d2",
   "metadata": {},
   "outputs": [
    {
     "name": "stdout",
     "output_type": "stream",
     "text": [
      "\u001b[1;4m\u001b[0;1m[\u001b[4;53m13:52:13\u001b[0m]\u001b[3mclient_1\u001b[0m: \u001b[0;1m\u001b[0mHello server!\u001b[0m\n",
      "\u001b[1;4m\u001b[0;1m[\u001b[4;53m13:52:13\u001b[0m]\u001b[3mclient_1\u001b[0m: \u001b[0;1m\u001b[0mSend though maindatasock\u001b[0m\n",
      "\u001b[38;5;214m\u001b[1;4mWAR:\u001b[0;1m\u001b[38;5;214m Could not identify the purpose of a <class 'list'> obj sent by user 'client_1'\u001b[0m\n"
     ]
    }
   ],
   "source": [
    "# Receive data from a client\n",
    "maindataport = server.getMainDataPort()\n",
    "client1.sendMsg(\"Hello server!\")\n",
    "client1.sendData(client1.clientsocks[maindataport], \"Send though maindatasock\")\n",
    "client1.sendData(client1.clientsocks[maindataport], [1, 2, 3])"
   ]
  },
  {
   "attachments": {},
   "cell_type": "markdown",
   "id": "1a7e9010",
   "metadata": {},
   "source": [
    "> ***Note:** The code above outputs a warning since the default recvFunc is not suited for data other than strings. Likewise the client doesn't output received datatypes other than strings at all. This can be changed with a custom receiving function (recvFunc)*"
   ]
  },
  {
   "cell_type": "code",
   "execution_count": 10,
   "id": "6f9c6fdc",
   "metadata": {},
   "outputs": [
    {
     "name": "stdout",
     "output_type": "stream",
     "text": [
      "Hello client!\n"
     ]
    }
   ],
   "source": [
    "# Send data to a client\n",
    "\n",
    "# Unmute clients to see what it is receiving\n",
    "client1.printInfo = ltn.Client.printInfo.__get__(client1, ltn.Client)\n",
    "\n",
    "# Send messages and data to the client\n",
    "server.sendMsgTo(cl1_id, \"Hello client!\")\n",
    "server.sendDataTo(server.conns[cl2_id]['socks'][server.addr[1]], [0, 1, 2, False])\n",
    "\n",
    "# Mute client again\n",
    "client1.printInfo =  mute.__get__(client1, ltn.Client)"
   ]
  },
  {
   "cell_type": "code",
   "execution_count": 11,
   "id": "859bc5f7",
   "metadata": {},
   "outputs": [
    {
     "name": "stdout",
     "output_type": "stream",
     "text": [
      "['changename', 'setlayer', 'updateserverdata', 'disconnect', 'connect', 'newdatasock']\n",
      "['PING', 'CLIENTDATA']\n"
     ]
    }
   ],
   "source": [
    "# Get available clientcommands and -requestables\n",
    "print(server.conns[cl1_id]['clientdata']['commands'])\n",
    "print(server.conns[cl1_id]['clientdata']['requestables'])"
   ]
  },
  {
   "cell_type": "code",
   "execution_count": 12,
   "id": "145978db",
   "metadata": {},
   "outputs": [
    {
     "name": "stdout",
     "output_type": "stream",
     "text": [
      "Username before: client_2\n"
     ]
    }
   ],
   "source": [
    "# Send a (client)command to a client\n",
    "print(\"Username before:\", client2.username)\n",
    "server.sendCommandTo(server.conns[cl2_id]['socks'][server.addr[1]], 'changename', 'better name')"
   ]
  },
  {
   "cell_type": "code",
   "execution_count": 13,
   "id": "21768502",
   "metadata": {},
   "outputs": [
    {
     "name": "stdout",
     "output_type": "stream",
     "text": [
      "Username after: better name\n"
     ]
    }
   ],
   "source": [
    "print(\"Username after:\", client2.username)"
   ]
  },
  {
   "cell_type": "code",
   "execution_count": 14,
   "id": "004833a4",
   "metadata": {},
   "outputs": [
    {
     "name": "stdout",
     "output_type": "stream",
     "text": [
      "{'description': 'None', 'username': 'client_1', 'client_version': '6.26.136', 'commands': ['changename', 'setlayer', 'updateserverdata', 'disconnect', 'connect', 'newdatasock'], 'requestables': ['PING', 'CLIENTDATA']}\n",
      "\n",
      "Ping is: 15ms\n"
     ]
    }
   ],
   "source": [
    "# Request data from a client\n",
    "clientdata = server.sendRequestTo(server.conns[cl1_id]['socks'][server.addr[1]], 'CLIENTDATA', timeout=1)\n",
    "print(clientdata)\n",
    "\n",
    "ping = server.sendRequestTo(server.conns[cl1_id]['socks'][server.addr[1]], 'PING', get_time=True)[1]\n",
    "print(f\"\\nPing is: {int(ping * 1000)}ms\")"
   ]
  },
  {
   "attachments": {},
   "cell_type": "markdown",
   "id": "1a3637c7",
   "metadata": {},
   "source": [
    "---\n",
    "\n",
    "# ***Servercommands***"
   ]
  },
  {
   "attachments": {},
   "cell_type": "markdown",
   "id": "923dbc9a",
   "metadata": {},
   "source": [
    "The server can send a (client-)command to a client but the client can also send a (server-)command the server. These *servercommands* are defined by the server and they execute various scripts/functions from displaying information to changing a clients username up to shutting the server down. To prevent unauthorized usage of these commands they require different permissions. Every client gains the *'user'* permission automatically when connecting to the serer. This allows to call basic commands, mostly informational ones. *'admin'* permissions aure required for things like kicking a client or shutting the server down. Additional permission groups can be added if needed. All permissions a client has can be seen in `server.conns[*id*]['permissions]`. Every text message starting with `'s.'` and with brackets will be interpreted as servercommand. In addition to the inbuilt commands new ones can be added with `newServerCommand()`.\n",
    "\n",
    "> ***Server.newServerCommand**(name, description, action, call_as_thread=False,needed_permission='user', params=[], optional_params=[], repeatable_param=None, category='', overwrite=False)*\n",
    "\n",
    "Every servercommand requires a **name**, a short **description** and the **action** function that will be executed when the command gets called. With **call_as_thread** enabled, the **action** will be executed in a new thread. This is important for **actions** with a long execution time since they block the socket from receiving data until the **action** is executed. The **needed_permission** parameter states required permissions to execute this command. Multiple permissions are possible. Arguments of the servercommand are stated with *params*, *optional_params* and *repeatable_param*. Only one argument *(the last one stated)* can be repeatable. With **overwrite** existing commands can be changed. To delete a servercommand use the `delServerCommand()` function.\n",
    "\n",
    "> ***NOTE:** Clients can gain permissions with the `'s.getrights()'` servercommand. This is more detailed in the client demonstration.*\n",
    "\n",
    "> ***NOTE:** The **action** parameter of `newServerCommand()` always gets two arguments: the **clientid** of the calling client and the arguments for the servercommand as a list*"
   ]
  },
  {
   "cell_type": "code",
   "execution_count": 15,
   "id": "fc1802ec",
   "metadata": {},
   "outputs": [],
   "source": [
    "# Define additional servercommand\n",
    "server.newServerCommand(\n",
    "    name='s.greet',\n",
    "    description=\"Greet someone\",\n",
    "    action=lambda id, args: print(f\"Hello {args[0]}!\"),\n",
    "    call_as_thread=False,  # Disabled since action is short\n",
    "    needed_permission='user',  # Default\n",
    "    args=['name'])"
   ]
  },
  {
   "cell_type": "code",
   "execution_count": 16,
   "id": "bb01ad48",
   "metadata": {},
   "outputs": [
    {
     "name": "stdout",
     "output_type": "stream",
     "text": [
      "\u001b[1;4m\u001b[0;1m[\u001b[4;53m13:52:23\u001b[0m]\u001b[3mclient_1\u001b[0m: \u001b[0;1m\u001b[0m\u001b[0;1;4ms.greet\u001b[0m(\u001b[3mWorld\u001b[0m)\n",
      "Hello World!\n"
     ]
    }
   ],
   "source": [
    "client1.sendMsg(\"s.greet(World)\")"
   ]
  },
  {
   "cell_type": "code",
   "execution_count": 17,
   "id": "07a40e86",
   "metadata": {},
   "outputs": [],
   "source": [
    "def expensive(arg1, arg2=2):\n",
    "    \"\"\"A simulated runtime expensive function.\"\"\"\n",
    "\n",
    "    print(f\"calculating arguments '{arg1}' & '{arg2}'\")\n",
    "    for e in range(10000):\n",
    "        _ = e**e\n",
    "    server.statusInfo(\"Finished runtime expensive function function\")\n",
    "\n",
    "server.newServerCommand(\n",
    "    name='s.expensive',\n",
    "    description=('Counts to a number'),\n",
    "    action=lambda id, args: expensive(*args),\n",
    "    call_as_thread=False,\n",
    "    args=['arg1'],\n",
    "    optional_args=['arg2'])"
   ]
  },
  {
   "cell_type": "code",
   "execution_count": 18,
   "id": "a1e1329c",
   "metadata": {},
   "outputs": [
    {
     "name": "stdout",
     "output_type": "stream",
     "text": [
      "\u001b[1;4m\u001b[0;1m[\u001b[4;53m13:52:26\u001b[0m]\u001b[3mclient_2\u001b[0m: \u001b[0;1m\u001b[0m\u001b[0;1;4ms.expensive\u001b[0m(\u001b[3m10\u001b[0m)\n",
      "calculating arguments '10' & '2'\n"
     ]
    },
    {
     "name": "stdout",
     "output_type": "stream",
     "text": [
      "\u001b[38;5;243mFinished runtime expensive function function\u001b[0m\n",
      "\u001b[1;4m\u001b[0;1m[\u001b[4;53m13:52:30\u001b[0m]\u001b[3mclient_2\u001b[0m: \u001b[0;1m\u001b[0m\u001b[0;1;4ms.greet\u001b[0m(\u001b[3mTom\u001b[0m)\n",
      "Hello Tom!\n"
     ]
    }
   ],
   "source": [
    "client2.sendMsg(\"s.expensive(10)\")\n",
    "client2.sendMsg(\"s.greet(Tom)\")"
   ]
  },
  {
   "attachments": {},
   "cell_type": "markdown",
   "id": "15e063e1",
   "metadata": {},
   "source": [
    "Even through both servercommands get called at *(nearly)* the same time, the *s.greet* command gets executed a few seconds later as seen by the timestamp. Since *s.expensive* is runtime expensive it should be executed in a new thread. With the changes in the cells below both commands get executed at *(nearly)* the same time."
   ]
  },
  {
   "cell_type": "code",
   "execution_count": 19,
   "id": "cf8917b5",
   "metadata": {},
   "outputs": [
    {
     "name": "stdout",
     "output_type": "stream",
     "text": [
      "\u001b[1;4m\u001b[0;1m[\u001b[4;53m13:52:39\u001b[0m]\u001b[3mclient_2\u001b[0m: \u001b[0;1m\u001b[0m\u001b[0;1;4ms.expensive\u001b[0m(\u001b[3m10\u001b[0m)\n",
      "calculating arguments '10' & '2'\n",
      "\u001b[1;4m\u001b[0;1m[\u001b[4;53m13:52:39\u001b[0m]\u001b[3mclient_2\u001b[0m: \u001b[0;1m\u001b[0m\u001b[0;1;4ms.greet\u001b[0m(\u001b[3mTom\u001b[0m)\n",
      "Hello Tom!\n"
     ]
    },
    {
     "name": "stdout",
     "output_type": "stream",
     "text": [
      "\u001b[38;5;243mFinished runtime expensive function function\u001b[0m\n"
     ]
    }
   ],
   "source": [
    "server.newServerCommand(\n",
    "    name='s.expensive',\n",
    "    description=(\"Counts to a number\"),\n",
    "    action=lambda id, args: expensive(*args),\n",
    "    call_as_thread=True,\n",
    "    args=['arg1'],\n",
    "    optional_args=['arg2'],\n",
    "    overwrite=True)\n",
    "\n",
    "client2.sendMsg(\"s.expensive(10)\")\n",
    "client2.sendMsg(\"s.greet(Tom)\")"
   ]
  },
  {
   "cell_type": "code",
   "execution_count": 20,
   "id": "fab054ae",
   "metadata": {},
   "outputs": [],
   "source": [
    "server.delServerCommand('s.greet')\n",
    "server.delServerCommand('s.expensive')"
   ]
  },
  {
   "attachments": {},
   "cell_type": "markdown",
   "id": "6e31aed3",
   "metadata": {},
   "source": [
    "---\n",
    "\n",
    "# ***Requestables***"
   ]
  },
  {
   "attachments": {},
   "cell_type": "markdown",
   "id": "0f99aa42",
   "metadata": {},
   "source": [
    "(Server-)Requestables allow Clients to request data from the server. All available requestables are defined by the server. Similar to Servercommands new requestables can be defined with `newServerRequestable()` and removed with `delServerRequestable()`. Data can be requested through every sock that uses the default *recvFunc* `recvClientData()`. *(See next Chapter for more)*. The way requests work is by sending the request together with an ID to the other party. There the request is processed and send back together with the ID. A receiver function detects the request because of the ID and puts the data in a dictionary where the original requesting function collects the data and returns it.\n",
    "\n",
    "> ***Note:** Requestables should be written in uppercase but this is not enforced.*"
   ]
  },
  {
   "cell_type": "code",
   "execution_count": 21,
   "id": "cf7e65a6",
   "metadata": {},
   "outputs": [],
   "source": [
    "server.newServerRequestable('THE_ANSWER_TO_EVERYTHING', [42, 'towel'], overwrite=False)\n",
    "server.newServerRequestable('SERVER', lambda: str(server))"
   ]
  },
  {
   "cell_type": "code",
   "execution_count": 22,
   "id": "ed909213",
   "metadata": {},
   "outputs": [
    {
     "data": {
      "text/plain": [
       "[42, 'towel']"
      ]
     },
     "execution_count": 22,
     "metadata": {},
     "output_type": "execute_result"
    }
   ],
   "source": [
    "# Client requests data from server\n",
    "client1.sendRequest(client1.clientsocks[client1.connected_addr[1]], 'THE_ANSWER_TO_EVERYTHING')"
   ]
  },
  {
   "cell_type": "code",
   "execution_count": 23,
   "id": "58cf6933",
   "metadata": {},
   "outputs": [
    {
     "data": {
      "text/plain": [
       "\"<Server (Demoserver), active, Serversock=('192.168.178.140', 4000)>\""
      ]
     },
     "execution_count": 23,
     "metadata": {},
     "output_type": "execute_result"
    }
   ],
   "source": [
    "client1.sendRequest(client1.clientsocks[client1.connected_addr[1]], 'SERVER')"
   ]
  },
  {
   "cell_type": "code",
   "execution_count": 24,
   "id": "4fe9138e",
   "metadata": {},
   "outputs": [],
   "source": [
    "server.delServerRequestable('SERVER')\n",
    "server.delServerRequestable('THE_ANSWER_TO_EVERYTHING')"
   ]
  },
  {
   "cell_type": "code",
   "execution_count": 25,
   "id": "fbae03f3",
   "metadata": {},
   "outputs": [
    {
     "data": {
      "text/plain": [
       "{'description': 'None',\n",
       " 'username': 'better name',\n",
       " 'client_version': '6.26.136',\n",
       " 'commands': ['changename',\n",
       "  'setlayer',\n",
       "  'updateserverdata',\n",
       "  'disconnect',\n",
       "  'connect',\n",
       "  'newdatasock'],\n",
       " 'requestables': ['PING', 'CLIENTDATA']}"
      ]
     },
     "execution_count": 25,
     "metadata": {},
     "output_type": "execute_result"
    }
   ],
   "source": [
    "# Server requests data from client\n",
    "server.sendRequestTo(cl2_id, 'CLIENTDATA')"
   ]
  },
  {
   "attachments": {},
   "cell_type": "markdown",
   "id": "3539b92d",
   "metadata": {},
   "source": [
    "---\n",
    "\n",
    "# ***Datasockets***"
   ]
  },
  {
   "attachments": {},
   "cell_type": "markdown",
   "id": "097d9b4f",
   "metadata": {},
   "source": [
    "As already mentioned the server can have multiple datasocks in addition to the serversock. These datasocks can be specified for certain purposes like transmitting of images. A datasock binds itself to a certain port and awaits new connecting sockets. The connected socket passes through a registration where it is validated that the socket belongs to a client connected to the serversock. *(Sockets that don't belong to a connected client get disconnected.)* After the registration the socket gets its own receiving thread which will receive and process data on that socket through a *recvFunc*. Every datasock can have its own *(custom)* *recvFunc* but the default is `recvClientData()`.\n",
    "An important datasock is the *maindatasock*, that is used for background transmissions like requests while the serversock connects new clients and handles user actions like servercommands. The maindatasock can be initialized at server start or later on through the function `bindMaindataSock()`. Since the maindatasock wasn't initiated with serverstart we can bind it now."
   ]
  },
  {
   "cell_type": "code",
   "execution_count": 26,
   "id": "98172660",
   "metadata": {},
   "outputs": [
    {
     "name": "stdout",
     "output_type": "stream",
     "text": [
      "\u001b[38;5;243mMaindata Datasock bound to 3999\u001b[0m\n"
     ]
    }
   ],
   "source": [
    "maindatasock = server.bindMaindataSock()"
   ]
  },
  {
   "attachments": {},
   "cell_type": "markdown",
   "id": "0b0009e3",
   "metadata": {},
   "source": [
    "Other datasocks can be initialized with `newDataSock()` as shown below. The datasock can be bound to a specific **dataport** or on the first available port in a list. By default the function will use the preferred data ports set with server initialization. The **connect_clients** parameter allows to connect specific clients to the new datasock. If **connect_new_clients** is enabled future clients that connect to the serversock will automatically be connected with this datasock. The most important parameter is the **recvFunc** parameter. This will set how the datasock receives and processes data. If the recvFunc is not specified, the default `recvClientData()` function will be used."
   ]
  },
  {
   "cell_type": "code",
   "execution_count": 27,
   "id": "91583270",
   "metadata": {},
   "outputs": [
    {
     "name": "stdout",
     "output_type": "stream",
     "text": [
      "\u001b[38;5;243mDataSocket1 Datasock bound to 3995\u001b[0m\n"
     ]
    }
   ],
   "source": [
    "datasock = server.newDataSock(\n",
    "    sockname='DataSocket1',\n",
    "    dataport=[3999, 3995],\n",
    "    recvFunc=server.recvClientData,\n",
    "    connect_clients=[cl2_id],\n",
    "    connect_new_clients=True,\n",
    "    show_info=True)"
   ]
  },
  {
   "attachments": {},
   "cell_type": "markdown",
   "id": "58c3791a",
   "metadata": {},
   "source": [
    "A custom build recvFunc receives and processes data. The function should be wrapped in/decorated with the `Server.recvFuncWrapper` which will loop the recvFunc. The wrapper will also handle errors and proper disconnect and removal of the socket. Keep in mind that the recvFunc gets two arguments, the socket to receive on and the clientid and also note that the client may need a custom send function."
   ]
  },
  {
   "cell_type": "code",
   "execution_count": 28,
   "id": "f77b8c51",
   "metadata": {},
   "outputs": [
    {
     "name": "stdout",
     "output_type": "stream",
     "text": [
      "\u001b[38;5;243mCustomDatasock Datasock bound to 4005\u001b[0m\n"
     ]
    }
   ],
   "source": [
    "# Build custom recvFunc\n",
    "@ltn.Server.recvFuncWrapper\n",
    "def recvFunc_bytes_size(server, socket, clientid):\n",
    "    \"\"\"RecvFunc that only displays the size of the received data.\"\"\"\n",
    "\n",
    "    data = socket.recv(server.se_max_datasize)\n",
    "    print(f\"Received {len(data)} bytes\")\n",
    "\n",
    "\n",
    "# Create new datasocket with custom recvFunc\n",
    "custom_datasock = server.newDataSock(\n",
    "    'CustomDatasock',\n",
    "    lambda sock, id: recvFunc_bytes_size(server, sock, id),\n",
    "    dataport=4005,\n",
    "    connect_clients=[cl1_id],\n",
    "    show_info=True)"
   ]
  },
  {
   "cell_type": "code",
   "execution_count": 29,
   "id": "d8c16c76",
   "metadata": {},
   "outputs": [
    {
     "name": "stdout",
     "output_type": "stream",
     "text": [
      "Received 5 bytes\n"
     ]
    }
   ],
   "source": [
    "_ = client1.clientsocks[4005].send(\"Hello\".encode())"
   ]
  },
  {
   "attachments": {},
   "cell_type": "markdown",
   "id": "2008e611",
   "metadata": {},
   "source": [
    "As we see instead of the text the binary size of the data is outputted.\n",
    "\n",
    "To close a datasock use the `closeDataSock()` function with the datasock name as argument. This disconnects every socket on that datasock and unbinds the datasock."
   ]
  },
  {
   "cell_type": "code",
   "execution_count": 30,
   "id": "84f6fb08",
   "metadata": {},
   "outputs": [
    {
     "name": "stdout",
     "output_type": "stream",
     "text": [
      "\u001b[38;5;243mClosing datasock 'DataSocket1' at 3995\u001b[0m\n",
      "\u001b[38;5;243mClosing datasock 'CustomDatasock' at 4005\u001b[0m\n"
     ]
    }
   ],
   "source": [
    "server.closeDataSock('DataSocket1')\n",
    "server.closeDataSock('CustomDatasock')"
   ]
  },
  {
   "attachments": {},
   "cell_type": "markdown",
   "id": "8c0b7488",
   "metadata": {},
   "source": [
    "---\n",
    "\n",
    "# ***Services***"
   ]
  },
  {
   "attachments": {},
   "cell_type": "markdown",
   "id": "4612becf",
   "metadata": {},
   "source": [
    "The server has a services routine for repetitive tasks like ping checking or data synchronization. The routine can be initialized with server start or later on through `servicesController()`. Once started all initialized and enabled services will be executed iteratively. A new service can be defined with `newService()`. A service function gets a list with clientids as argument. To enable or disable a service use `setServiceEnabled()`. Services that throw an error will automatically be disabled."
   ]
  },
  {
   "cell_type": "code",
   "execution_count": 31,
   "id": "de86afb5",
   "metadata": {},
   "outputs": [],
   "source": [
    "def ping_service(clientids):\n",
    "    \"\"\"Pings clients\"\"\"\n",
    "    for clientid in clientids:\n",
    "        server.conns[clientid]['ping'] = server.pingSocket(\n",
    "            server.mainDataSockof(clientid))\n",
    "\n",
    "server.newService('ping', ping_service, as_thread=False, overwrite=False)"
   ]
  },
  {
   "cell_type": "code",
   "execution_count": 32,
   "id": "35103885",
   "metadata": {},
   "outputs": [
    {
     "name": "stdout",
     "output_type": "stream",
     "text": [
      "\u001b[38;5;243mStarted services\u001b[0m\n"
     ]
    }
   ],
   "source": [
    "server.servicesController(routine_pause=1)"
   ]
  },
  {
   "cell_type": "code",
   "execution_count": 33,
   "id": "515adeba",
   "metadata": {},
   "outputs": [
    {
     "data": {
      "text/plain": [
       "0.03125"
      ]
     },
     "execution_count": 33,
     "metadata": {},
     "output_type": "execute_result"
    }
   ],
   "source": [
    "# Rerun this multiple times to see the ping change\n",
    "server.conns[cl1_id]['ping']"
   ]
  },
  {
   "cell_type": "code",
   "execution_count": 34,
   "id": "6f5b6019",
   "metadata": {},
   "outputs": [],
   "source": [
    "server.delService('ping') "
   ]
  },
  {
   "attachments": {},
   "cell_type": "markdown",
   "id": "fe337133",
   "metadata": {},
   "source": [
    "---\n",
    "\n",
    "# ***Server shutdown***"
   ]
  },
  {
   "attachments": {},
   "cell_type": "markdown",
   "id": "a546fe2a",
   "metadata": {},
   "source": [
    "The server can be shut down through `shutdownServer()`. This will disconnect all clients *(on every sock)*, end the services routine and unbinds all socks of the server. It is also possible to restart the server with `restartServer()`. Both functions can be called through servercommands."
   ]
  },
  {
   "cell_type": "code",
   "execution_count": 35,
   "id": "6197fc40",
   "metadata": {},
   "outputs": [
    {
     "name": "stdout",
     "output_type": "stream",
     "text": [
      "\u001b[38;5;243mShutting Server down\u001b[0m\n",
      "\u001b[38;5;243mStopping services\u001b[0m\n",
      "\u001b[38;5;243mDisconnecting all users\u001b[0m\n",
      "\u001b[38;5;230mDisconnected connection 'client_1'\u001b[0m\n",
      "\u001b[38;5;230mDisconnected connection 'client_2'\u001b[0m\n",
      "\u001b[38;5;243mUnbinding all sockets\u001b[0m\n",
      "\u001b[38;5;243mClosing datasock 'Serversock' at 4000\u001b[0m\n",
      "\u001b[38;5;243mClosing datasock 'Maindata' at 3999\u001b[0m\n",
      "\u001b[38;5;243mServer is inactive\u001b[0m\n"
     ]
    },
    {
     "name": "stdout",
     "output_type": "stream",
     "text": [
      "\u001b[38;5;243mEnded services\u001b[0m\n"
     ]
    }
   ],
   "source": [
    "server.shutdownServer()"
   ]
  },
  {
   "attachments": {},
   "cell_type": "markdown",
   "id": "48bf5359",
   "metadata": {},
   "source": [
    "---\n",
    "\n",
    "# ***Outputs***"
   ]
  },
  {
   "attachments": {},
   "cell_type": "markdown",
   "id": "9cdcc91e",
   "metadata": {},
   "source": [
    "The server outputs different messages through the following functions. The *Info functions simply print the information. The output functions can be modified if needed.\n",
    "\n",
    "> ***Server.printInfo(message: str, sender: str)***\n",
    "> * Outputs received server messages\n",
    "\n",
    "> ***Server.connectionInfo(info: str)***\n",
    "> * Outputs information regarding clients\n",
    "\n",
    "> ***Server.statusInfo(status: str)***\n",
    "> * Outputs states of the server\n",
    "\n",
    "> ***Server.warningInfo(warning: str)***\n",
    "> * Outputs warnings\n",
    "\n",
    "> ***Server.errorInfo(error: str)***\n",
    "> * Outputs errors\n",
    "\n",
    "> ***Server.logEvent(event: str)***\n",
    "> * Stores every occurred output internally and in the *logfile* if one is set\n"
   ]
  },
  {
   "attachments": {},
   "cell_type": "markdown",
   "id": "1799f5d9",
   "metadata": {},
   "source": [
    "---\n",
    "<span style=\"float: right; font-size: 15pt\"><b>LocalThingsNetwork</b></i></span>\n",
    "<br><br>\n",
    "<span style=\"float: right; font-size: 10pt\"><i>For Server version </i><b>7.43.162</b></span>"
   ]
  }
 ],
 "metadata": {
  "kernelspec": {
   "display_name": "Python 3",
   "language": "python",
   "name": "python3"
  },
  "language_info": {
   "codemirror_mode": {
    "name": "ipython",
    "version": 3
   },
   "file_extension": ".py",
   "mimetype": "text/x-python",
   "name": "python",
   "nbconvert_exporter": "python",
   "pygments_lexer": "ipython3",
   "version": "3.11.0"
  },
  "vscode": {
   "interpreter": {
    "hash": "98b374e99358913c1c42b6b370ad32794c013153bdea03f97f4485417b03b617"
   }
  }
 },
 "nbformat": 4,
 "nbformat_minor": 5
}
