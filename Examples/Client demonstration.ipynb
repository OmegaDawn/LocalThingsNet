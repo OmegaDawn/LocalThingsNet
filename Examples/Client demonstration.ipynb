{
 "cells": [
  {
   "attachments": {},
   "cell_type": "markdown",
   "id": "3694e3a4-b1fa-4d79-b02b-e2432d285102",
   "metadata": {},
   "source": [
    "<p style=\"text-align: center\">\n",
    "    <b><span style=\"float: center; font-size: 12pt\">LocalThingsNetwork</span>\n",
    "    <br>\n",
    "    <span style=\"font-size: 40pt\"> Client demonstration </span></b>\n",
    "</p>\n",
    "\n",
    "---\n",
    "\n",
    "This is a demonstration of the `localthingsnet.network.Client` class. It is shown how to **find** and **connect** to a server, **interact** with the server through text, commands and requests as well as how to customize and **modify** the client.\n",
    "\n",
    "---"
   ]
  },
  {
   "cell_type": "code",
   "execution_count": 1,
   "id": "2d98e90c",
   "metadata": {},
   "outputs": [],
   "source": [
    "import localthingsnet.network as ltn"
   ]
  },
  {
   "cell_type": "code",
   "execution_count": 2,
   "id": "c625e2b4-d08f-4c2b-9a53-9eb45d280434",
   "metadata": {},
   "outputs": [
    {
     "name": "stdout",
     "output_type": "stream",
     "text": [
      "\u001b[38;5;243mServersock bound to 4000\u001b[0m\n",
      "\u001b[38;5;243mServer is running at ('192.168.178.140', 4000)\u001b[0m\n",
      "\u001b[38;5;243mMaindata Datasock bound to 3999\u001b[0m\n"
     ]
    }
   ],
   "source": [
    "# Initialise a server for demonstration purposes\n",
    "# NOTE: All Server outputs except warnings are hidden to focus on the client\n",
    "\n",
    "server = ltn.Server(servername='demoserver', description=\"A simple demonstration\")\n",
    "server.startServer(maindatasock=True)\n",
    "\n",
    "def mute(self, *args, **kwargs):\n",
    "    pass\n",
    "server.printInfo = mute.__get__(server, ltn.Server)\n",
    "server.connectionInfo = mute.__get__(server, ltn.Server)\n",
    "server.statusInfo = mute.__get__(server, ltn.Server)\n",
    "server.errorInfo = mute.__get__(server, ltn.Server)\n",
    "# s.warningInfo = mute.__get__(s, Server)"
   ]
  },
  {
   "attachments": {},
   "cell_type": "markdown",
   "id": "365117b1",
   "metadata": {},
   "source": [
    "---\n",
    "---\n",
    "\n",
    "# ***Client initialization***"
   ]
  },
  {
   "attachments": {},
   "cell_type": "markdown",
   "id": "1e5e117e-c566-4899-ba93-e8c24e2a03d1",
   "metadata": {
    "tags": []
   },
   "source": [
    "The setup of a client is straight forward. The client has four optional parameters `username`, `description`, `logfile` and `ansi`:\n",
    "\n",
    ">***username***  \n",
    "> * A name to address the client. (Can be changed later on)\n",
    "> * *(Default is '')*\n",
    "\n",
    ">***description***  \n",
    "> * Short description about the client.\n",
    "> * *(Default is \"None\")*\n",
    "\n",
    ">***logfile***  \n",
    "> * Save all occurred events to this file.\n",
    "> * *(Default is '', no log file created)*\n",
    "\n",
    ">**ansi**  \n",
    "> * Allow ANSI text formatting.\n",
    "> * *(Default is True)*"
   ]
  },
  {
   "cell_type": "code",
   "execution_count": 3,
   "id": "98ac437d-2c4b-46e6-9ff5-2f06bbc939cf",
   "metadata": {},
   "outputs": [
    {
     "data": {
      "text/plain": [
       "'6.26.136'"
      ]
     },
     "execution_count": 3,
     "metadata": {},
     "output_type": "execute_result"
    }
   ],
   "source": [
    "client = ltn.Client(\n",
    "    username='Demo_client',\n",
    "    description=\"Simple client for a demonstration\")\n",
    "\n",
    "client.__version__"
   ]
  },
  {
   "attachments": {},
   "cell_type": "markdown",
   "id": "217fd99b",
   "metadata": {},
   "source": [
    "To connect the client to a server we need to know the server address. The client provides a method `searchForServer()` that searches for active servers on certain addresses or the hole local network. Found server addresses get returned and by default internally stored *(in `client.autoconnect_addrs`)* . This can be changed through the **add_to_autoconnect** parameter. If you only need a single server you can enable the **only_one** parameter which aborts the search after the first server is found."
   ]
  },
  {
   "cell_type": "code",
   "execution_count": 4,
   "id": "46172453",
   "metadata": {},
   "outputs": [
    {
     "name": "stdout",
     "output_type": "stream",
     "text": [
      "\u001b[38;5;243mSearching for servers on 256 IPs at 2 ports.\u001b[0m\n",
      "\u001b[38;5;243mFound Server on 192.168.178.140 at 4000\u001b[0m\n",
      "\n",
      "Found addresses: [('192.168.178.140', 4000)]\n"
     ]
    }
   ],
   "source": [
    "addrs = client.searchServers(ports=(4000, 4001), ips='locals', only_one=False, log_info=True)\n",
    "print(\"\\nFound addresses:\", client.autoconnect_addrs)"
   ]
  },
  {
   "attachments": {},
   "cell_type": "markdown",
   "id": "9e7fd422",
   "metadata": {},
   "source": [
    "---\n",
    "# ***Connect***"
   ]
  },
  {
   "attachments": {},
   "cell_type": "markdown",
   "id": "3e45e70f-fc50-4cbe-aa30-83251dd9a1c9",
   "metadata": {},
   "source": [
    "The client can be connected to a server with the `connect()` function. Connections are made either through entering an address tuple *(direct connect)* or through an 'already known' address in the `c.autoconnect_addrs` list *(autoconnect)*. The function tries to connect to an address and returns a string informing about success or failure. Once the Client connects to an active server, a registration protocol is carried out to ensure the compatibility between Server and Client. Also general information like servername, version, available servercommands and -requests, etc. are exchanged during the registration. If the client is connected with a server prior to a connect attempt, the client will disconnect from that server and connect to the new one instead."
   ]
  },
  {
   "cell_type": "code",
   "execution_count": 5,
   "id": "2ae5da55-0b8c-45c0-897e-97d3a93f328a",
   "metadata": {},
   "outputs": [
    {
     "name": "stdout",
     "output_type": "stream",
     "text": [
      "\u001b[38;5;243mConnecting to 192.168.178.140\u001b[0m\n",
      "\u001b[38;5;243mConnected with 192.168.178.140 at 4000\u001b[0m\n",
      "\u001b[38;5;243mConnected new datasocket to port 3999\u001b[0m\n",
      "Connected to demoserver\n",
      "Registered as 'Demo_client'\n"
     ]
    },
    {
     "name": "stdout",
     "output_type": "stream",
     "text": [
      "Type 's.help()' for more information\n",
      "You have admin permissions\n"
     ]
    }
   ],
   "source": [
    "# Direct connect\n",
    "info = client.connect((client.ip, 4000))"
   ]
  },
  {
   "cell_type": "code",
   "execution_count": null,
   "id": "6f74550b-e7b1-4ebb-8bb4-1147da254df8",
   "metadata": {},
   "outputs": [],
   "source": [
    "# Autoconnect (optional)\n",
    "info = client.connect(autoconnect=True)"
   ]
  },
  {
   "cell_type": "markdown",
   "id": "885445f1",
   "metadata": {},
   "source": [
    "The client is now connected with the Server as indicated by the console outputs."
   ]
  },
  {
   "attachments": {},
   "cell_type": "markdown",
   "id": "8d1eca5a",
   "metadata": {},
   "source": [
    "---\n",
    "\n",
    "# ***Communication***\n",
    "\n",
    "A good way to start interacting with the server is by sending `\"s.help()\"` to the server as instructed by the output above. As we will later learn this is a *servercommand* that can show a lot of useful information about the server and its abilities. Text messages can be transmitted to the server with `sendMsg()`. Other send methods will be introduced shortly."
   ]
  },
  {
   "cell_type": "code",
   "execution_count": 6,
   "id": "5dba73dc",
   "metadata": {},
   "outputs": [
    {
     "name": "stdout",
     "output_type": "stream",
     "text": [
      "\u001b[1;4mSERVER HELP\u001b[0;1m:\u001b[0m\n",
      "  If you don't know how to interact/operate this\n",
      "  server then please refer to the usage examples on\n",
      "  https://github.com/OmegaDawn/localthingsnet \n",
      "\n",
      "  Information about the server and the underlying\n",
      "  project can be gained by sending '\u001b[1ms.help(server)\u001b[0m'\n",
      "  and '\u001b[1ms.help(project)\u001b[0m'. For available\n",
      "  servercommands type '\u001b[1ms.help(commands)\u001b[0m'.\n"
     ]
    }
   ],
   "source": [
    "client.sendMsg(\"s.help()\")"
   ]
  },
  {
   "cell_type": "code",
   "execution_count": 7,
   "id": "3bef4919",
   "metadata": {},
   "outputs": [
    {
     "name": "stdout",
     "output_type": "stream",
     "text": [
      "\u001b[1;4mLOCALTHINGSNETWORK PROJECT\u001b[0;1m:\u001b[0m\n",
      "  This is an application of the localthingsnet(work)\n",
      "  project(https://github.com/OmegaDawn/localthingsnet)\n",
      "  The project aims to provide a socket based\n",
      "  communication tool for personal DIY and/or IoT\n",
      "  projects that need a simple and easy to setup\n",
      "  connection to other devices. Further information can\n",
      "  be found in the already mentioned repository.\n"
     ]
    }
   ],
   "source": [
    "client.sendMsg(\"s.help(project)\")"
   ]
  },
  {
   "attachments": {},
   "cell_type": "markdown",
   "id": "85fc21eb-173c-4394-919d-c45dfbbe2ead",
   "metadata": {},
   "source": [
    "Lets's  look at other ways the client can communicate with the server. As shown `sendMsg()` sends a text message to the server. This function uses the main socket of the server (called ***serversock***) for the transmission. The user mostly interacts with the server through the serversock. Server may hold additional ***datasocks*** that are used for background- and special data transmission. The server connects the client with a datasock if needed. The client can send data through any connected socket with `sendData()`. The data will be encoded with `pickle.dumps()` and sent to the server. Most python objects including strings, numbers, lists or class objects can be transmitted this way. All connected sockets are stored in the `client.clientsocks` dictionary, addressable through their connected port. A third way of interacting is through `sendRequest()`. This allows to request and return certain data from the server. Available *requestables* are defined by the server.\n",
    "\n",
    ">***Client.sendMsg(msg: str)***\n",
    ">- For user inputs\n",
    ">- Sends a message or command through the serversock\n",
    ">- Build upon `sendData()`\n",
    "\n",
    ">***Client.sendData(sock: socket.socket, data: object)***\n",
    ">- For transmitting data \n",
    ">- Binary encodes python objects and send them through the given socket\n",
    ">- Useable for all connected sockets\n",
    "\n",
    ">***Client.sendRequest(sock: socket.socket, request: str, timeout: float = 1.0) -> object***\n",
    ">- Gets data from the server\n",
    ">- Everything that can be requested is set server side\n",
    ">- Mainly used with the maindatasock"
   ]
  },
  {
   "attachments": {},
   "cell_type": "markdown",
   "id": "62d02e7d",
   "metadata": {},
   "source": [
    "> ***Note:** The snipped below may throw a KeyError if the server- and maindatasock are not bound to port 4000 and 3999. The ports the client is connected to can be ssen in the connect output above or the keys in the `client.clientsocks` dictionary. The serversock port can also be gained with `client.connected_addr[1]`.*"
   ]
  },
  {
   "cell_type": "code",
   "execution_count": 8,
   "id": "2058da0e",
   "metadata": {},
   "outputs": [
    {
     "name": "stdout",
     "output_type": "stream",
     "text": [
      "\u001b[3mReceived:\u001b[0m Hello server!\n",
      "\u001b[3mReceived:\u001b[0m Send to the maindatasock\n",
      "\u001b[3mReceived:\u001b[0m Sent to the serversock\n"
     ]
    }
   ],
   "source": [
    "# Send text messages\n",
    "client.sendMsg(\"Hello server!\")\n",
    "client.sendData(client.clientsocks[4000], \"Sent to the serversock\")  # This is equal to sendMsg()\n",
    "client.sendData(client.clientsocks[3999], \"Send to the maindatasock\")"
   ]
  },
  {
   "cell_type": "code",
   "execution_count": 9,
   "id": "4bedb6a2",
   "metadata": {},
   "outputs": [
    {
     "name": "stdout",
     "output_type": "stream",
     "text": [
      "\u001b[38;5;214m\u001b[1;4mWAR:\u001b[0;1m\u001b[38;5;214m Could not identify the purpose of a <class 'list'> obj sent by user 'Demo_client'\u001b[0m\n",
      "\u001b[38;5;214m\u001b[1;4mWAR:\u001b[0;1m\u001b[38;5;214m Could not identify the purpose of a <class 'bool'> obj sent by user 'Demo_client'\u001b[0m\n"
     ]
    }
   ],
   "source": [
    "# Send data\n",
    "client.sendData(client.clientsocks[4000], [\"This is a list\", 1, 2])\n",
    "client.sendData(client.clientsocks[3999], False)"
   ]
  },
  {
   "attachments": {},
   "cell_type": "markdown",
   "id": "e313ebad",
   "metadata": {},
   "source": [
    "> ***Note:** The lines above display a warning, because the server is not prepared to receive data other than strings. (Refer to the Server demonstration on how to handle different data formats with custom receiving functions (recvFunc))*\n",
    "\n",
    "<br>\n",
    "\n",
    "The next line requests live data from the server through the use of `sendRequest()`. In this case metadata of the server like active sockets, available servercommands, version, etc. is requested."
   ]
  },
  {
   "cell_type": "code",
   "execution_count": 10,
   "id": "dc100021",
   "metadata": {},
   "outputs": [
    {
     "data": {
      "text/plain": [
       "{'servername': 'demoserver',\n",
       " 'description': 'A simple demonstration',\n",
       " 'server_version': '7.43.162',\n",
       " 'starttime': 1672317672.5072393,\n",
       " 'layer': 0,\n",
       " 'separator': '<$SEP$>',\n",
       " 'max_datasize': 1024,\n",
       " 'max_username_length': 16,\n",
       " 'servercommands': ['s.connectto',\n",
       "  's.ping',\n",
       "  's.changename',\n",
       "  's.getadmin',\n",
       "  's.removeadmin',\n",
       "  's.mute',\n",
       "  's.unmute',\n",
       "  's.kickuser',\n",
       "  's.kickip',\n",
       "  's.getrights',\n",
       "  's.removerights',\n",
       "  's.setadminkey',\n",
       "  's.storelog',\n",
       "  's.closedatasock',\n",
       "  's.restart',\n",
       "  's.shutdown',\n",
       "  's.services',\n",
       "  's.getadminkey',\n",
       "  's.help',\n",
       "  's.info',\n",
       "  's.errortrace',\n",
       "  's.attributes',\n",
       "  's.listthreads',\n",
       "  's.listsocks'],\n",
       " 'requestables': ['SERVERDATA'],\n",
       " 'socks': [['Serversock', 4000], ['Maindata', 3999]]}"
      ]
     },
     "execution_count": 10,
     "metadata": {},
     "output_type": "execute_result"
    }
   ],
   "source": [
    "client.sendRequest(client.clientsocks[client.connected_addr[1]], 'SERVERDATA')"
   ]
  },
  {
   "attachments": {},
   "cell_type": "markdown",
   "id": "19600e81",
   "metadata": {},
   "source": [
    "---\n",
    "### ***Servercommands***\n",
    "\n",
    "Server provide a set of servercommands that allows the user to control the server. Every message starting with *'s.'* and with brackets will be interpreted as a servercommand. Servercommands can have arguments although, they must be passed as strings. The `s.help()` servercommand was already presented. One argument that wasn't used before is the *commands* option. By sending `s.help(commands)`, a list of all available commands and needed/optional arguments will be displayed. The `s.help()` command also provides the possibility to pass a command name as argument to get more information about that command. Commands require certain permissions to be executed. Every client has the *user* permission by default. Admin permissions can be gained with the `s.getadmin()` servercommand and the password as argument. Other permissions can be gained with `s.getrights()` if the user is an admin.\n",
    "\n",
    ">***Note:** For the given demoserver every connection gets admin permissions automatically* since the adminkey was set to '' at the server initialization."
   ]
  },
  {
   "cell_type": "code",
   "execution_count": 11,
   "id": "384ad53a",
   "metadata": {},
   "outputs": [
    {
     "name": "stdout",
     "output_type": "stream",
     "text": [
      "\u001b[1;4mAVAILABLE SERVERCOMMANDS\u001b[0;1m:\u001b[0m\n",
      "  Use \"s.help(*command_name*)\" for more\n",
      "    information about that command\n",
      "  Parameters with a '[o]' are optional\n",
      "  Parameters with a '[r]' are repeatable\n",
      "\n",
      "  server management commands:\n",
      "    s.closedatasock(serversockname[r])\n",
      "    s.restart()\n",
      "    s.services(enable, service_name[o])\n",
      "    s.setadminkey(new_key)\n",
      "    s.shutdown()\n",
      "    s.storelog(filename[o])\n",
      "  statistic commands:\n",
      "    s.attributes()\n",
      "    s.errortrace()\n",
      "    s.getadminkey()\n",
      "    s.help(servercommand[o][r])\n",
      "    s.info(entity_name[o][r])\n",
      "    s.listsocks()\n",
      "    s.listthreads()\n",
      "  user management commands:\n",
      "    s.changename(newname, clientname[o])\n",
      "    s.connectto(ip, port[o])\n",
      "    s.getadmin(adminkey[o])\n",
      "    s.getrights(permission[r])\n",
      "    s.kickip(ip[r])\n",
      "    s.kickuser(username[r])\n",
      "    s.mute(username[r])\n",
      "    s.ping()\n",
      "    s.removeadmin(username[o][r])\n",
      "    s.removerights(permission[r])\n",
      "    s.unmute(username[r])\n"
     ]
    }
   ],
   "source": [
    "client.sendMsg(\"s.help(commands)\")"
   ]
  },
  {
   "cell_type": "code",
   "execution_count": 12,
   "id": "bb3a9dee",
   "metadata": {},
   "outputs": [
    {
     "name": "stdout",
     "output_type": "stream",
     "text": [
      "Gained permissions: to_have_fun, to_dance\n"
     ]
    }
   ],
   "source": [
    "client.sendMsg(\"s.getrights(to_have_fun, to_dance)\")"
   ]
  },
  {
   "cell_type": "code",
   "execution_count": 13,
   "id": "16adeb95",
   "metadata": {},
   "outputs": [
    {
     "name": "stdout",
     "output_type": "stream",
     "text": [
      "Removed permissions: to_dance\n"
     ]
    }
   ],
   "source": [
    "client.sendMsg(\"s.removerights(to_dance)\")"
   ]
  },
  {
   "cell_type": "code",
   "execution_count": 14,
   "id": "15ad3b9c",
   "metadata": {},
   "outputs": [
    {
     "name": "stdout",
     "output_type": "stream",
     "text": [
      "Changed adminkey to '1234'\n",
      "Adminkey: 1234\n"
     ]
    }
   ],
   "source": [
    "client.sendMsg(\"s.setadminkey(1234)\")\n",
    "client.sendMsg(\"s.getadminkey()\")"
   ]
  },
  {
   "attachments": {},
   "cell_type": "markdown",
   "id": "97b8f130",
   "metadata": {},
   "source": [
    "---\n",
    "---\n",
    "\n",
    "# ***Modifications***"
   ]
  },
  {
   "attachments": {},
   "cell_type": "markdown",
   "id": "9a18294d",
   "metadata": {},
   "source": [
    "Client and Server are constructed to be highly extendable and new commands, requestables, and special datasockets can be defined if needed. "
   ]
  },
  {
   "attachments": {},
   "cell_type": "markdown",
   "id": "088c5ca0",
   "metadata": {},
   "source": [
    "### ***Clientcommands***\n",
    "\n",
    "Like the server, the client also has commands named **clientcommands**. They get called through the server and are used to to update client variables or execute certain actions like connecting to a datasock of the server. New clientcommands can be defined or updated with `newClientCommand()` and removed with `delClientCommand()`"
   ]
  },
  {
   "cell_type": "code",
   "execution_count": 15,
   "id": "b9144e98",
   "metadata": {},
   "outputs": [],
   "source": [
    "def multiply(*args):\n",
    "    print(\"Product:\", args[0] * args[1])\n",
    "\n",
    "client.newClientCommand(\n",
    "    name=\"multiply\",\n",
    "    action=multiply,\n",
    "    overwrite=False)"
   ]
  },
  {
   "cell_type": "code",
   "execution_count": 16,
   "id": "901bedb9",
   "metadata": {},
   "outputs": [
    {
     "name": "stdout",
     "output_type": "stream",
     "text": [
      "Product: 21\n"
     ]
    }
   ],
   "source": [
    "# Server side get socket of the client (see server demonstration for more)\n",
    "user_sock = list(server.conns.values())[0]['socks'][server.getMainDataPort()]\n",
    "\n",
    "# Call clientcommand through server\n",
    "server.sendCommandTo(user_sock, 'multiply', (3, 7))"
   ]
  },
  {
   "attachments": {},
   "cell_type": "markdown",
   "id": "42cb3e96",
   "metadata": {},
   "source": [
    "It is also possible to pass the socket that received the command and is now calling it. This is done by naming the first argument `calling_socket` as shown in the example below."
   ]
  },
  {
   "cell_type": "code",
   "execution_count": 17,
   "id": "0d55782a",
   "metadata": {},
   "outputs": [
    {
     "name": "stdout",
     "output_type": "stream",
     "text": [
      "Receiving socket: <socket.socket fd=1464, family=2, type=1, proto=0, laddr=('192.168.178.140', 50807), raddr=('192.168.178.140', 3999)>\n",
      "Arguments: (123, 4)\n"
     ]
    }
   ],
   "source": [
    "def show_caller_and_args(calling_socket, *args):\n",
    "    print(\"Receiving socket:\", calling_socket)\n",
    "    print(\"Arguments:\", args)\n",
    "\n",
    "client.newClientCommand(\n",
    "    name='caller_info',\n",
    "    action=show_caller_and_args)\n",
    "\n",
    "# Call the clientcommand through server\n",
    "user_sock = list(server.conns.values())[0]['socks'][server.getMainDataPort()]\n",
    "server.sendCommandTo(user_sock, 'caller_info', (123, 4))"
   ]
  },
  {
   "cell_type": "code",
   "execution_count": 18,
   "id": "661de87a",
   "metadata": {},
   "outputs": [],
   "source": [
    "client.delClientCommand('multiply')\n",
    "client.delClientCommand('caller_info')"
   ]
  },
  {
   "attachments": {},
   "cell_type": "markdown",
   "id": "ae3b640d",
   "metadata": {},
   "source": [
    "### ***Requestables***\n",
    "\n",
    "(Client-)requestables allow the server to get (live) data from the client. Available requestables are set by the client. The functions to create and delete Requestables are similar to client commands. New Requestables can be defined or existing ones overwritten with `newRequestable()` and deleted with `delClientRequestable()`."
   ]
  },
  {
   "cell_type": "code",
   "execution_count": 19,
   "id": "1e78f2ab",
   "metadata": {},
   "outputs": [],
   "source": [
    "client.newClientRequestable(\n",
    "    name='Give me some numbers',\n",
    "    data=[34.5, 2, 6.08695],\n",
    "    overwrite=False)"
   ]
  },
  {
   "cell_type": "code",
   "execution_count": 20,
   "id": "0e254cd3",
   "metadata": {},
   "outputs": [
    {
     "data": {
      "text/plain": [
       "[34.5, 2, 6.08695]"
      ]
     },
     "execution_count": 20,
     "metadata": {},
     "output_type": "execute_result"
    }
   ],
   "source": [
    "# server requests from the client\n",
    "user_sock = list(server.conns.values())[0]['socks'][server.getMainDataPort()]\n",
    "server.sendRequestTo(user_sock, 'Give me some numbers')"
   ]
  },
  {
   "attachments": {},
   "cell_type": "markdown",
   "id": "2f9cdc2c",
   "metadata": {},
   "source": [
    "---\n",
    "\n",
    "# ***Disconnect***\n",
    "\n",
    "A client can be disconnected from a server with a `disconnect()` call or by kicking the client *(f.e. with servercommand `s.kickuser(Demo_client)`)*. Connecting to a new server or terminating the server will also correctly close the connection with the server."
   ]
  },
  {
   "cell_type": "code",
   "execution_count": 21,
   "id": "ca2e679e",
   "metadata": {},
   "outputs": [
    {
     "name": "stdout",
     "output_type": "stream",
     "text": [
      "\u001b[38;5;243mLost connection to socket at 4000\u001b[0m\u001b[38;5;243mDisconnected from Server 'demoserver'\u001b[0m\n",
      "\n",
      "\u001b[38;5;243mLost connection to socket at 3999\u001b[0m\n"
     ]
    }
   ],
   "source": [
    "client.disconnect()\n",
    "\n",
    "# Other ways to disconnect:\n",
    "#c.sendMsg(\"s.kickuser(Demo_client)\")\n",
    "#c.connect(('192.0.0.1', 0))  # or other address"
   ]
  },
  {
   "attachments": {},
   "cell_type": "markdown",
   "id": "22c99f11",
   "metadata": {},
   "source": [
    "---\n",
    "\n",
    "# ***Outputs***\n",
    "\n",
    "Every output of the client program is made through one of the following functions. These functions can be modified and integrated into other applications.\n",
    "\n",
    "> ***Client.printInfo(message: str, sender: str)***\n",
    "> * Outputs received server messages\n",
    "\n",
    "> ***Client.statusInfo(status: str)***\n",
    "> * Outputs system messages\n",
    "\n",
    "> ***Client.warningInfo(warning: str)***\n",
    "> * Outputs warnings\n",
    "\n",
    "> ***Client.errorInfo(error: str)***\n",
    "> * Outputs errors\n",
    "\n",
    "> ***Client.logEvent(event: str)***\n",
    "> * Stores every occurred output internally and in the logfile if one is set\n"
   ]
  },
  {
   "cell_type": "markdown",
   "id": "33f0a80a",
   "metadata": {},
   "source": [
    "---"
   ]
  },
  {
   "cell_type": "code",
   "execution_count": 22,
   "id": "1175ea70",
   "metadata": {},
   "outputs": [],
   "source": [
    "# Shutdown testserver\n",
    "server.shutdownServer()"
   ]
  },
  {
   "attachments": {},
   "cell_type": "markdown",
   "id": "1799f5d9",
   "metadata": {},
   "source": [
    "---\n",
    "<span style=\"float: right; font-size: 15pt\"><b>LocalThingsNetwork</b></i></span>\n",
    "<br><br>\n",
    "<span style=\"float: right; font-size: 10pt\"><i>For Client version </i><b>6.26.136</b></span>"
   ]
  }
 ],
 "metadata": {
  "kernelspec": {
   "display_name": "Python 3",
   "language": "python",
   "name": "python3"
  },
  "language_info": {
   "codemirror_mode": {
    "name": "ipython",
    "version": 3
   },
   "file_extension": ".py",
   "mimetype": "text/x-python",
   "name": "python",
   "nbconvert_exporter": "python",
   "pygments_lexer": "ipython3",
   "version": "3.11.0"
  },
  "vscode": {
   "interpreter": {
    "hash": "98b374e99358913c1c42b6b370ad32794c013153bdea03f97f4485417b03b617"
   }
  }
 },
 "nbformat": 4,
 "nbformat_minor": 5
}
