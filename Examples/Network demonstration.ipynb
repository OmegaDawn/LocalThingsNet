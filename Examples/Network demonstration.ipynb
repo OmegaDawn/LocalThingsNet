{
 "cells": [
  {
   "attachments": {},
   "cell_type": "markdown",
   "id": "cb9598b0-1157-4779-ab32-454fb4fec21b",
   "metadata": {},
   "source": [
    "<p style=\"text-align: center\">\n",
    "    <b><span style=\"float: center; font-size: 12pt\">LocalThingsNetwork</span>\n",
    "    <br>\n",
    "    <span style=\"font-size: 40pt\"> Layered network demonstration </span></b>\n",
    "</p>\n",
    "\n",
    "---\n",
    "\n",
    "This is a demonstration of the `localthingsnet.network.MainServer` and `localthingsnet.network.SubServer` classes used to build multi-level hierarchical network structures. Both classes extend the `Server` class. The ***MainServer*** acts as the central *(root)* node of a network. It controls and manages all other server nodes in the network. The *SubServer* is a combination of the *Server* and *Client* class which means client can connect to it but it also can connect to another (sub-)server. This demonstration shows how to to **initialize** the different server and how to **connect** them to a multi layered network.\n",
    "\n",
    "Please work through the *Sever* and *Client* demonstration beforehand. \n",
    "\n",
    "> ***NOTE:** The Mainserver is currently just a PoC and does not provide much functionality*\n",
    "\n",
    "---"
   ]
  },
  {
   "cell_type": "code",
   "execution_count": 1,
   "id": "1f6d83b8-fe45-40dd-acfd-07d55181b2ad",
   "metadata": {},
   "outputs": [],
   "source": [
    "import localthingsnet.network as ltn"
   ]
  },
  {
   "attachments": {},
   "cell_type": "markdown",
   "id": "4864d33a",
   "metadata": {},
   "source": [
    "---\n",
    "\n",
    "# ***Main-/Subserver initialization***"
   ]
  },
  {
   "attachments": {},
   "cell_type": "markdown",
   "id": "98613f53",
   "metadata": {},
   "source": [
    "The initialization for Main- and SubServer are similar to the `Server` initialization. Likewise `startServer()` needs to be called to bind the server to an address.\n",
    "\n",
    ">***NOTE:** If port 4000 is not free, change the preferred port of the mainserver to another port*"
   ]
  },
  {
   "cell_type": "code",
   "execution_count": 2,
   "id": "3bcd3778",
   "metadata": {},
   "outputs": [],
   "source": [
    "main = ltn.MainServer(preferredport=4000)\n",
    "\n",
    "sub1 = ltn.SubServer(servername='sub1')\n",
    "sub2 = ltn.SubServer(servername='sub2')\n",
    "sub3 = ltn.SubServer(servername='lower_sub3')"
   ]
  },
  {
   "cell_type": "code",
   "execution_count": 3,
   "id": "82dfa011",
   "metadata": {},
   "outputs": [
    {
     "name": "stdout",
     "output_type": "stream",
     "text": [
      "\u001b[38;5;243mServersock bound to 4000\u001b[0m\n",
      "\u001b[38;5;243mServer is running at ('192.168.178.140', 4000)\u001b[0m\n",
      "\u001b[38;5;243mMaindata Datasock bound to 3999\u001b[0m\n",
      "\u001b[38;5;243mMainserver operational\u001b[0m\n",
      "\u001b[38;5;243mStarted services\u001b[0m\n"
     ]
    }
   ],
   "source": [
    "main.startServer()"
   ]
  },
  {
   "cell_type": "code",
   "execution_count": 4,
   "id": "2f2d81f5",
   "metadata": {},
   "outputs": [
    {
     "name": "stdout",
     "output_type": "stream",
     "text": [
      "\u001b[38;5;243mServersock bound to 4001\u001b[0m\n",
      "\u001b[38;5;243mServer is running at ('192.168.178.140', 4001)\u001b[0m\n",
      "\u001b[38;5;243mSubserver 'sub1' operational\u001b[0m\n",
      "\u001b[38;5;243mStarted services\u001b[0m\n"
     ]
    }
   ],
   "source": [
    "sub1.startServer()"
   ]
  },
  {
   "cell_type": "code",
   "execution_count": 5,
   "id": "28d0563c",
   "metadata": {},
   "outputs": [
    {
     "name": "stdout",
     "output_type": "stream",
     "text": [
      "\u001b[38;5;243mServersock bound to 4002\u001b[0m\n",
      "\u001b[38;5;243mServer is running at ('192.168.178.140', 4002)\u001b[0m\n",
      "\u001b[38;5;243mSubserver 'sub2' operational\u001b[0m\n",
      "\u001b[38;5;243mStarted services\u001b[0m\n"
     ]
    }
   ],
   "source": [
    "sub2.startServer()"
   ]
  },
  {
   "cell_type": "code",
   "execution_count": 6,
   "id": "d5b39165",
   "metadata": {},
   "outputs": [
    {
     "name": "stdout",
     "output_type": "stream",
     "text": [
      "\u001b[38;5;243mServersock bound to 4003\u001b[0m\n",
      "\u001b[38;5;243mServer is running at ('192.168.178.140', 4003)\u001b[0m\n",
      "\u001b[38;5;243mSubserver 'lower_sub3' operational\u001b[0m\n",
      "\u001b[38;5;243mStarted services\u001b[0m\n"
     ]
    }
   ],
   "source": [
    "sub3.startServer()"
   ]
  },
  {
   "attachments": {},
   "cell_type": "markdown",
   "id": "a8ab602f",
   "metadata": {},
   "source": [
    "---\n",
    "\n",
    "# ***Build multi layered network***\n",
    "\n",
    "Since the subserver is an combination of server and client it can use the client `connect()` function to connect to another server, subserver or mainserver. The server instance a subserver connects to is referrd to as *higher server*. The subserver can disconnect or connect to another higher server at any time."
   ]
  },
  {
   "cell_type": "code",
   "execution_count": 7,
   "id": "a1867af9",
   "metadata": {},
   "outputs": [
    {
     "name": "stdout",
     "output_type": "stream",
     "text": [
      "\u001b[38;5;243mConnecting to 192.168.178.140\u001b[0m\n",
      "\u001b[38;5;243mConnected with 192.168.178.140 at 4000\u001b[0m\n",
      "\u001b[38;5;243mConnected new datasocket to port 3999\u001b[0m\n",
      "\u001b[38;5;230m192.168.178.140 is registered as 'sub1'\u001b[0m\n",
      "\u001b[1;4m\u001b[0;1m[\u001b[4;53m13:57:33\u001b[0m]\u001b[3mMainserver\u001b[0m> \u001b[0;1m\u001b[0mConnected to Mainserver\n"
     ]
    },
    {
     "data": {
      "text/plain": [
       "'Connected'"
      ]
     },
     "execution_count": 7,
     "metadata": {},
     "output_type": "execute_result"
    },
    {
     "name": "stdout",
     "output_type": "stream",
     "text": [
      "\u001b[1;4m\u001b[0;1m[\u001b[4;53m13:57:33\u001b[0m]\u001b[3mMainserver\u001b[0m> \u001b[0;1m\u001b[0mRegistered as 'sub1'\n",
      "\u001b[1;4m\u001b[0;1m[\u001b[4;53m13:57:33\u001b[0m]\u001b[3mMainserver\u001b[0m> \u001b[0;1m\u001b[0mType 's.help()' for more information\n",
      "\u001b[1;4m\u001b[0;1m[\u001b[4;53m13:57:33\u001b[0m]\u001b[3mMainserver\u001b[0m> \u001b[0;1m\u001b[0mYou have admin permissions\n"
     ]
    }
   ],
   "source": [
    "sub1.connect(main.addr)"
   ]
  },
  {
   "cell_type": "code",
   "execution_count": 8,
   "id": "e7e51655",
   "metadata": {},
   "outputs": [
    {
     "name": "stdout",
     "output_type": "stream",
     "text": [
      "\u001b[38;5;243mConnecting to 192.168.178.140\u001b[0m\n",
      "\u001b[38;5;243mConnected with 192.168.178.140 at 4000\u001b[0m\n",
      "\u001b[38;5;243mConnected new datasocket to port 3999\u001b[0m\n"
     ]
    },
    {
     "data": {
      "text/plain": [
       "'Connected'"
      ]
     },
     "execution_count": 8,
     "metadata": {},
     "output_type": "execute_result"
    },
    {
     "name": "stdout",
     "output_type": "stream",
     "text": [
      "\u001b[38;5;230m192.168.178.140 is registered as 'sub2'\u001b[0m\n",
      "\u001b[1;4m\u001b[0;1m[\u001b[4;53m13:57:34\u001b[0m]\u001b[3mMainserver\u001b[0m> \u001b[0;1m\u001b[0mConnected to Mainserver\n",
      "\u001b[1;4m\u001b[0;1m[\u001b[4;53m13:57:34\u001b[0m]\u001b[3mMainserver\u001b[0m> \u001b[0;1m\u001b[0mRegistered as 'sub2'\n",
      "\u001b[1;4m\u001b[0;1m[\u001b[4;53m13:57:34\u001b[0m]\u001b[3mMainserver\u001b[0m> \u001b[0;1m\u001b[0mType 's.help()' for more information\n",
      "\u001b[1;4m\u001b[0;1m[\u001b[4;53m13:57:34\u001b[0m]\u001b[3mMainserver\u001b[0m> \u001b[0;1m\u001b[0mYou have admin permissions\n"
     ]
    }
   ],
   "source": [
    "sub2.connect(main.addr)"
   ]
  },
  {
   "cell_type": "code",
   "execution_count": 9,
   "id": "00ee943b",
   "metadata": {},
   "outputs": [
    {
     "name": "stdout",
     "output_type": "stream",
     "text": [
      "\u001b[38;5;243mConnecting to 192.168.178.140\u001b[0m\n",
      "\u001b[38;5;243mConnected with 192.168.178.140 at 4001\u001b[0m\n"
     ]
    },
    {
     "data": {
      "text/plain": [
       "'Connected'"
      ]
     },
     "execution_count": 9,
     "metadata": {},
     "output_type": "execute_result"
    },
    {
     "name": "stdout",
     "output_type": "stream",
     "text": [
      "\u001b[38;5;230m192.168.178.140 is registered as 'lower_sub3'\u001b[0m\n",
      "\u001b[1;4m\u001b[0;1m[\u001b[4;53m13:57:35\u001b[0m]\u001b[3msub1\u001b[0m> \u001b[0;1m\u001b[0mConnected to sub1\n",
      "\u001b[1;4m\u001b[0;1m[\u001b[4;53m13:57:35\u001b[0m]\u001b[3msub1\u001b[0m> \u001b[0;1m\u001b[0mRegistered as 'lower_sub3'\n",
      "\u001b[1;4m\u001b[0;1m[\u001b[4;53m13:57:35\u001b[0m]\u001b[3msub1\u001b[0m> \u001b[0;1m\u001b[0mType 's.help()' for more information\n",
      "\u001b[1;4m\u001b[0;1m[\u001b[4;53m13:57:35\u001b[0m]\u001b[3msub1\u001b[0m> \u001b[0;1m\u001b[0mYou have admin permissions\n"
     ]
    }
   ],
   "source": [
    "sub3.connect(sub1.addr)"
   ]
  },
  {
   "cell_type": "code",
   "execution_count": 10,
   "id": "366f0948",
   "metadata": {},
   "outputs": [
    {
     "name": "stdout",
     "output_type": "stream",
     "text": [
      "\u001b[38;5;243mConnecting to 192.168.178.140\u001b[0m\n",
      "\u001b[38;5;243mConnected with 192.168.178.140 at 4000\u001b[0m\n",
      "\u001b[38;5;243mConnected new datasocket to port 3999\u001b[0m\n",
      "\u001b[38;5;230m192.168.178.140 is registered as 'client1'\u001b[0m\n"
     ]
    },
    {
     "data": {
      "text/plain": [
       "'Connected'"
      ]
     },
     "execution_count": 10,
     "metadata": {},
     "output_type": "execute_result"
    },
    {
     "name": "stdout",
     "output_type": "stream",
     "text": [
      "Connected to Mainserver\n",
      "Registered as 'client1'\n",
      "Type 's.help()' for more information\n",
      "You have admin permissions\n"
     ]
    }
   ],
   "source": [
    "# Connect some clients\n",
    "c1 = ltn.Client('client1')\n",
    "c1.connect(main.addr)"
   ]
  },
  {
   "cell_type": "code",
   "execution_count": 11,
   "id": "1af54032",
   "metadata": {},
   "outputs": [
    {
     "name": "stdout",
     "output_type": "stream",
     "text": [
      "\u001b[38;5;243mConnecting to 192.168.178.140\u001b[0m\n",
      "\u001b[38;5;243mConnected with 192.168.178.140 at 4000\u001b[0m\n",
      "\u001b[38;5;230m192.168.178.140 is registered as 'client2'\u001b[0m\n",
      "\u001b[38;5;243mConnected new datasocket to port 3999\u001b[0m\n",
      "Connected to Mainserver\n",
      "Registered as 'client2'\n",
      "Type 's.help()' for more information\n",
      "You have admin permissions\n"
     ]
    },
    {
     "data": {
      "text/plain": [
       "'Connected'"
      ]
     },
     "execution_count": 11,
     "metadata": {},
     "output_type": "execute_result"
    }
   ],
   "source": [
    "c2 = ltn.Client('client2')\n",
    "c2.connect(main.addr)"
   ]
  },
  {
   "cell_type": "code",
   "execution_count": 12,
   "id": "0cd7c417",
   "metadata": {},
   "outputs": [
    {
     "name": "stdout",
     "output_type": "stream",
     "text": [
      "\u001b[38;5;243mConnecting to 192.168.178.140\u001b[0m\n",
      "\u001b[38;5;243mConnected with 192.168.178.140 at 4001\u001b[0m\n"
     ]
    },
    {
     "data": {
      "text/plain": [
       "'Connected'"
      ]
     },
     "execution_count": 12,
     "metadata": {},
     "output_type": "execute_result"
    },
    {
     "name": "stdout",
     "output_type": "stream",
     "text": [
      "\u001b[38;5;230m192.168.178.140 is registered as 'client3'\u001b[0m\n",
      "Connected to sub1\n",
      "Registered as 'client3'\n",
      "Type 's.help()' for more information\n",
      "You have admin permissions\n"
     ]
    }
   ],
   "source": [
    "c3 = ltn.Client('client3')\n",
    "c3.connect(sub1.addr)"
   ]
  },
  {
   "cell_type": "code",
   "execution_count": 13,
   "id": "8b408cd7",
   "metadata": {},
   "outputs": [
    {
     "name": "stdout",
     "output_type": "stream",
     "text": [
      "\u001b[38;5;243mConnecting to 192.168.178.140\u001b[0m\n",
      "\u001b[38;5;243mConnected with 192.168.178.140 at 4003\u001b[0m\n"
     ]
    },
    {
     "data": {
      "text/plain": [
       "'Connected'"
      ]
     },
     "execution_count": 13,
     "metadata": {},
     "output_type": "execute_result"
    },
    {
     "name": "stdout",
     "output_type": "stream",
     "text": [
      "\u001b[38;5;230m192.168.178.140 is registered as 'client4'\u001b[0m\n",
      "Connected to lower_sub3\n",
      "Registered as 'client4'\n",
      "Type 's.help()' for more information\n",
      "You have admin permissions\n"
     ]
    }
   ],
   "source": [
    "c4 = ltn.Client('client4')\n",
    "c4.connect(sub3.addr)"
   ]
  },
  {
   "attachments": {},
   "cell_type": "markdown",
   "id": "03036ff2",
   "metadata": {},
   "source": [
    "---\n",
    "\n",
    "# ***Interact with (higher) server***\n",
    "\n",
    "A subserver can interact with its higher server through `sendMsg()`, `sendData()`, `sendRequest()` and `sendCommand()`. These are the functions implemented in the `Client` class. A subserver can send something to a connected client *(or subserver)* through `sendMsgTo()`, `sendDataTo()`, `sendRequestTo()`, `sendCommandTo()`. These are the functions implemented in the `Server` class. In general use the '...To()' functions to send to a client *(lower connection)* and the functions without To' when sending to a sever *(higher connection)*.\n",
    "\n",
    "Subserver have additional servercommands and requestables. Two important servercommands are `'s.sethigherserver()'` and `'s.connecttoghigher()'`. These allow to set the higher server of a subserver through a client *(or lower subserver)* if the client has admin permissions. The `'s.connecttohigher()'` allows a client to connect to the higher server. For subserver this means they change their higher server to the higher server of the connected higher server, effectively moving up a layer in the network structure. The mainserver has the `'s.listnetwork()'` servercommand to display the whole network structure with every subserver and client.\n",
    "\n",
    "> ***NOTE:** THE `'s.listnetwork()'` servercommand may be formatted wrong in VS Code*"
   ]
  },
  {
   "cell_type": "code",
   "execution_count": 14,
   "id": "1094242f",
   "metadata": {},
   "outputs": [
    {
     "name": "stdout",
     "output_type": "stream",
     "text": [
      "\u001b[1;4m\u001b[0;1m[\u001b[4;53m13:57:41\u001b[0m]\u001b[3mclient4\u001b[0m: \u001b[0;1m\u001b[0m\u001b[0;1;4ms.sethigherserver\u001b[0m(\u001b[3m'192.168.178.140'\u001b[0m, \u001b[3m4003\u001b[0m)\n",
      "Confirm connecting to a new address by sending 's.sethigherserver('192.168.178.140', 4003)'\n"
     ]
    }
   ],
   "source": [
    "c4.sendMsg(f's.sethigherserver{sub3.addr}')"
   ]
  },
  {
   "cell_type": "code",
   "execution_count": 15,
   "id": "e9be2d4d",
   "metadata": {},
   "outputs": [
    {
     "name": "stdout",
     "output_type": "stream",
     "text": [
      "\u001b[1;4m\u001b[0;1m[\u001b[4;53m13:57:42\u001b[0m]\u001b[3mclient4\u001b[0m: \u001b[0;1m\u001b[0m\u001b[0;1;4ms.sethigherserver\u001b[0m(\u001b[3m'192.168.178.140'\u001b[0m, \u001b[3m4003\u001b[0m)\n",
      "\u001b[38;5;243mDisconnecting from higher Server\u001b[0m\n",
      "\u001b[38;5;243mDisconnected from Server 'sub1'\u001b[0m\n",
      "\u001b[38;5;243mLost connection to socket at 4001\u001b[0m\n",
      "\u001b[38;5;243mConnecting to '192.168.178.140'\u001b[0m\n",
      "\u001b[38;5;230mDisconnected connection 'lower_sub3'\u001b[0m\n",
      "Lost connection with higher Server\n",
      "\u001b[38;5;243mNo server found\u001b[0m\n",
      "\u001b[38;5;243mDisconnected from Server\u001b[0m\n",
      "Connect result: No Server on this address\n"
     ]
    }
   ],
   "source": [
    "c4.sendMsg(f's.sethigherserver{sub3.addr}')"
   ]
  },
  {
   "cell_type": "code",
   "execution_count": 16,
   "id": "2ee631ec",
   "metadata": {},
   "outputs": [
    {
     "name": "stdout",
     "output_type": "stream",
     "text": [
      "\u001b[1;4m\u001b[0;1m[\u001b[4;53m13:57:43\u001b[0m]\u001b[3mclient1\u001b[0m: \u001b[0;1m\u001b[0m\u001b[0;1;4ms.listnetwork\u001b[0m(\u001b[3m\u001b[0m)\n",
      "Collecting data...\n",
      "All connected instances in the network:\n",
      "\n",
      "Mainserver(192.168.178.140)  2 servers  2 clients\n",
      " ├──> client1(192.168.178.140)\n",
      " ├──> client2(192.168.178.140)\n",
      " |\n",
      " ├─ sub1(192.168.178.140)  0 servers  1 clients\n",
      " |  ├──> client3(192.168.178.140)\n",
      " | \n",
      " ├─ sub2(192.168.178.140)  0 servers  0 clients\n",
      "   "
     ]
    },
    {
     "name": "stdout",
     "output_type": "stream",
     "text": [
      "\n"
     ]
    }
   ],
   "source": [
    "c1.sendMsg('s.listnetwork()')"
   ]
  },
  {
   "attachments": {},
   "cell_type": "markdown",
   "id": "ac6d9abd",
   "metadata": {},
   "source": [
    "---\n",
    "\n",
    "# ***Network shutdown***\n",
    "\n",
    "Subserver and mainserver can be shut down with `shutdownServer()`. Subnets for a main/-subserver will not stop operating if their higher server shuts down. The only exception is the mainserver servercommand `'s.shutdownnetwork()'` which will disable every subserver in the network. If using the co\n",
    "\n",
    "The mainserver also has servercommands to restart or shutdown certain server."
   ]
  },
  {
   "cell_type": "code",
   "execution_count": 17,
   "id": "34f86227",
   "metadata": {},
   "outputs": [
    {
     "name": "stdout",
     "output_type": "stream",
     "text": [
      "\u001b[38;5;243mDisconnecting from higher server\u001b[0m\n",
      "\u001b[38;5;243mDisconnected from Server\u001b[0m\n",
      "\u001b[38;5;243mShutting Server down\u001b[0m\n",
      "\u001b[38;5;243mStopping services\u001b[0m\n",
      "\u001b[38;5;243mDisconnecting all users\u001b[0m\n",
      "\u001b[38;5;230mDisconnected connection 'client4'\u001b[0m\n",
      "\u001b[38;5;243mUnbinding all sockets\u001b[0m\n",
      "\u001b[38;5;243mClosing datasock 'Serversock' at 4003\u001b[0m\n",
      "\u001b[38;5;243mServer is inactive\u001b[0m\n",
      "\u001b[38;5;243mLost connection to socket at 4003\u001b[0m\n",
      "\u001b[38;5;243mDisconnected from Server 'lower_sub3'\u001b[0m\n"
     ]
    },
    {
     "name": "stdout",
     "output_type": "stream",
     "text": [
      "\u001b[38;5;243mEnded services\u001b[0m\n"
     ]
    }
   ],
   "source": [
    "# Single server shutdown\n",
    "sub3.shutdownServer()"
   ]
  },
  {
   "cell_type": "code",
   "execution_count": 18,
   "id": "4a45df12",
   "metadata": {},
   "outputs": [
    {
     "name": "stdout",
     "output_type": "stream",
     "text": [
      "\u001b[1;4m\u001b[0;1m[\u001b[4;53m13:57:46\u001b[0m]\u001b[3mclient1\u001b[0m: \u001b[0;1m\u001b[0m\u001b[0;1;4ms.shutdownnetwork\u001b[0m(\u001b[3m\u001b[0m)\n"
     ]
    },
    {
     "name": "stdout",
     "output_type": "stream",
     "text": [
      "Send 's.shutdownnetwork()' again to confirm the shutdown of the whole network\n"
     ]
    }
   ],
   "source": [
    "# Whole network shutdown\n",
    "c1.sendMsg('s.shutdownnetwork()')"
   ]
  },
  {
   "cell_type": "code",
   "execution_count": 19,
   "id": "2b4be45e",
   "metadata": {},
   "outputs": [
    {
     "name": "stdout",
     "output_type": "stream",
     "text": [
      "\u001b[1;4m\u001b[0;1m[\u001b[4;53m13:57:47\u001b[0m]\u001b[3mclient1\u001b[0m: \u001b[0;1m\u001b[0m\u001b[0;1;4ms.shutdownnetwork\u001b[0m(\u001b[3m\u001b[0m)\n",
      "\u001b[1;4m\u001b[0;1m[\u001b[4;53m13:57:47\u001b[0m]\u001b[3mMainserver\u001b[0m> \u001b[0;1m\u001b[0mNetwork is shutting down\n",
      "\u001b[1;4m\u001b[0;1m[\u001b[4;53m13:57:47\u001b[0m]\u001b[3mMainserver\u001b[0m> \u001b[0;1m\u001b[0mNetwork is shutting down\n",
      "\u001b[38;5;243mDisconnecting from higher server\u001b[0m\n",
      "\u001b[38;5;243mDisconnecting from higher Server\u001b[0m\n",
      "\u001b[38;5;243mDisconnecting from higher server\u001b[0m\n",
      "\u001b[38;5;243mDisconnecting from higher Server\u001b[0m\n"
     ]
    },
    {
     "name": "stdout",
     "output_type": "stream",
     "text": [
      "\u001b[38;5;243mDisconnected from Server 'Mainserver'\u001b[0m\u001b[38;5;243mLost connection to socket at 3999\u001b[0m\n",
      "\n",
      "\u001b[38;5;243mShutting Server down\u001b[0m\n",
      "\u001b[38;5;243mStopping services\u001b[0m\n",
      "\u001b[38;5;243mDisconnecting all users\u001b[0m\n",
      "\u001b[38;5;243mLost connection to socket at 3999\u001b[0m\n",
      "\u001b[38;5;243mLost connection to socket at 4001\u001b[0m\n",
      "\u001b[38;5;230mDisconnected connection 'client3'\u001b[0m\n",
      "\u001b[38;5;243mDisconnected from Server 'sub1'\u001b[0m\n",
      "\u001b[38;5;243mDisconnected from Server 'Mainserver'\u001b[0m\n",
      "\u001b[38;5;243mShutting Server down\u001b[0m\n",
      "\u001b[38;5;243mStopping services\u001b[0m\n",
      "\u001b[38;5;243mDisconnecting all users\u001b[0m\n",
      "\u001b[38;5;243mUnbinding all sockets\u001b[0m\n",
      "Network is shutting down\n",
      "\u001b[38;5;214m\u001b[1;4mWAR:\u001b[0;1m\u001b[38;5;214m Senderror for a disconnected client\u001b[0m\n",
      "\u001b[38;5;243mClosing datasock 'Serversock' at 4002\u001b[0m\n",
      "\u001b[38;5;243mUnbinding all sockets\u001b[0m\n",
      "\u001b[38;5;243mLost connection to socket at 4000\u001b[0m\n",
      "Network is shutting down\n",
      "\u001b[38;5;243mShutting Server down\u001b[0m\n",
      "\u001b[38;5;243mStopping services\u001b[0m\n",
      "\u001b[38;5;243mDisconnecting all users\u001b[0m\n",
      "\u001b[38;5;243mClosing datasock 'Serversock' at 4001\u001b[0m\n",
      "\u001b[38;5;243mServer is inactive\u001b[0m\n",
      "\u001b[38;5;243mLost connection to socket at 4000\u001b[0m\n",
      "\u001b[38;5;243mDisconnected from Server 'Mainserver'\u001b[0m\n",
      "\u001b[38;5;243mLost connection to socket at 3999\u001b[0m\n",
      "\u001b[38;5;230mDisconnected connection 'sub1'\u001b[0m\n",
      "\u001b[38;5;230mDisconnected connection 'sub2'\u001b[0m\n",
      "\u001b[38;5;243mLost connection to socket at 4000\u001b[0m\n",
      "\u001b[38;5;243mDisconnected from Server 'Mainserver'\u001b[0m\n",
      "\u001b[38;5;243mLost connection to socket at 3999\u001b[0m\n",
      "\u001b[38;5;243mServer is inactive\u001b[0m\n",
      "\u001b[38;5;243mLost connection to socket at 4000\u001b[0m\n",
      "\u001b[38;5;214m\u001b[1;4mWAR:\u001b[0;1m\u001b[38;5;214m Senderror for a disconnected client\u001b[0m\n",
      "\u001b[38;5;214m\u001b[1;4mWAR:\u001b[0;1m\u001b[38;5;214m Senderror for a disconnected client\u001b[0m\n",
      "\u001b[91;1;4mERR:\u001b[0;1;91m Senderror while sending to 'client2':  [WinError 10038] Ein Vorgang bezog sich auf ein Objekt, das kein Socket ist\u001b[0m\n",
      "\u001b[38;5;230mDisconnected connection 'client2'\u001b[0m\n",
      "\u001b[38;5;230mDisconnected connection 'client1'\u001b[0m\n",
      "\u001b[91;1;4mERR:\u001b[0;1;91m Error while executing service 'Metadata_update': 'c5c1e092-20a8-4357-acd4-8b8965448acd'\u001b[0m\n",
      "\u001b[38;5;214m\u001b[1;4mWAR:\u001b[0;1m\u001b[38;5;214m Service 'Metadata_update' is now disabled\u001b[0m\n",
      "\u001b[38;5;243mUnbinding all sockets\u001b[0m\n",
      "\u001b[38;5;243mClosing datasock 'Serversock' at 4000\u001b[0m\n",
      "\u001b[38;5;243mClosing datasock 'Maindata' at 3999\u001b[0m\n",
      "\u001b[38;5;243mServer is inactive\u001b[0m\n",
      "\u001b[38;5;243mEnded services\u001b[0m\n",
      "\u001b[38;5;243mEnded services\u001b[0m\n",
      "\u001b[38;5;243mEnded services\u001b[0m\n"
     ]
    }
   ],
   "source": [
    "# Confirmation\n",
    "c1.sendMsg('s.shutdownnetwork()')"
   ]
  },
  {
   "attachments": {},
   "cell_type": "markdown",
   "id": "247b54a8",
   "metadata": {},
   "source": [
    "---\n",
    "<span style=\"float: right; font-size: 15pt\"><b>LocalThingsNetwork</b></i></span>\n",
    "<br><br>\n",
    "<span style=\"float: right; font-size: 10pt\"><i>For MainServer version </i><b>2.09.040</b><br>\n",
    "<span style=\"float: right; font-size: 10pt\"><i>For SubServer version </i><b>4.17.075</b><br>"
   ]
  }
 ],
 "metadata": {
  "kernelspec": {
   "display_name": "Python 3",
   "language": "python",
   "name": "python3"
  },
  "language_info": {
   "codemirror_mode": {
    "name": "ipython",
    "version": 3
   },
   "file_extension": ".py",
   "mimetype": "text/x-python",
   "name": "python",
   "nbconvert_exporter": "python",
   "pygments_lexer": "ipython3",
   "version": "3.11.0"
  },
  "vscode": {
   "interpreter": {
    "hash": "98b374e99358913c1c42b6b370ad32794c013153bdea03f97f4485417b03b617"
   }
  }
 },
 "nbformat": 4,
 "nbformat_minor": 5
}
